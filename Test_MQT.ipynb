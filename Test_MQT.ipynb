{
 "cells": [
  {
   "cell_type": "code",
   "execution_count": 1,
   "metadata": {},
   "outputs": [
    {
     "name": "stderr",
     "output_type": "stream",
     "text": [
      "C:\\ProgramData\\Anaconda3\\lib\\site-packages\\qiskit\\__init__.py:64: RuntimeWarning: Could not import the Aer provider from the qiskit-aer package. Install qiskit-aer or check your installation.\n",
      "  RuntimeWarning)\n"
     ]
    }
   ],
   "source": [
    "from jkq import qfr\n",
    "from qiskit import QuantumCircuit\n",
    "import time\n",
    "# import mqt.ddsim"
   ]
  },
  {
   "cell_type": "code",
   "execution_count": 6,
   "metadata": {},
   "outputs": [
    {
     "name": "stdout",
     "output_type": "stream",
     "text": [
      "0.061994314193725586\n",
      "{'name': '', 'n_qubits': 10, 'n_gates': 200}\n",
      "final nodes: 1066\n"
     ]
    }
   ],
   "source": [
    "path=\"Benchmarks/\"\n",
    "path=''\n",
    "file_name=\"test.qasm\"\n",
    "cir=QuantumCircuit.from_qasm_file(path+file_name)\n",
    "t_start=time.time()\n",
    "# qfr.ConstructionMethod.recursive\n",
    "results=qfr.construct(cir,store_dd=True,method = qfr.ConstructionMethod.sequential)\n",
    "print(time.time()-t_start)\n",
    "print(results['circuit'])\n",
    "print(\"final nodes:\",results['statistics']['final_nodecount'])\n",
    "# print(results['statistics']['max_nodecount'])\n",
    "# print(results)\n",
    "# print(results['functionality']['dd'])"
   ]
  },
  {
   "cell_type": "code",
   "execution_count": 3,
   "metadata": {},
   "outputs": [],
   "source": [
    "# import jkq.qfr\n",
    "# jkq.qfr.__file__\n",
    "# help(qfr.construct)"
   ]
  },
  {
   "cell_type": "code",
   "execution_count": 4,
   "metadata": {},
   "outputs": [],
   "source": [
    "# t_start=time.time()\n",
    "# # qfr.ConstructionMethod.recursive\n",
    "# results=qfr.construct(cir,store_dd=True,method = qfr.ConstructionMethod.recursive)\n",
    "# print(time.time()-t_start)\n",
    "# print(results['circuit'])\n",
    "# print(\"final nodes:\",results['statistics']['final_nodecount'])\n",
    "# print(results['statistics']['max_nodecount'])"
   ]
  },
  {
   "cell_type": "code",
   "execution_count": null,
   "metadata": {},
   "outputs": [],
   "source": []
  },
  {
   "cell_type": "code",
   "execution_count": null,
   "metadata": {},
   "outputs": [],
   "source": []
  }
 ],
 "metadata": {
  "kernelspec": {
   "display_name": "Python 3",
   "language": "python",
   "name": "python3"
  },
  "language_info": {
   "codemirror_mode": {
    "name": "ipython",
    "version": 3
   },
   "file_extension": ".py",
   "mimetype": "text/x-python",
   "name": "python",
   "nbconvert_exporter": "python",
   "pygments_lexer": "ipython3",
   "version": "3.7.6"
  }
 },
 "nbformat": 4,
 "nbformat_minor": 4
}
