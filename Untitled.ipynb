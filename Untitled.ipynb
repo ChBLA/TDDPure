{
 "cells": [
  {
   "cell_type": "code",
   "execution_count": 1,
   "metadata": {},
   "outputs": [],
   "source": [
    "from TDD.TDD import TDD,Node\n",
    "import time"
   ]
  },
  {
   "cell_type": "code",
   "execution_count": 2,
   "metadata": {},
   "outputs": [
    {
     "name": "stdout",
     "output_type": "stream",
     "text": [
      "9.024638891220093\n"
     ]
    }
   ],
   "source": [
    "num=10000000\n",
    "\n",
    "t_start=time.time()\n",
    "for k in range(num):\n",
    "    tdd=TDD(Node(k))\n",
    "    \n",
    "print(time.time()-t_start)"
   ]
  },
  {
   "cell_type": "code",
   "execution_count": 7,
   "metadata": {},
   "outputs": [
    {
     "name": "stdout",
     "output_type": "stream",
     "text": [
      "13.875715732574463\n",
      "17.191690921783447\n"
     ]
    }
   ],
   "source": [
    "key_2_new_key = [list(range(10)),list(range(10))]    \n",
    "    \n",
    "    \n",
    "k1=9\n",
    "k2=9\n",
    "\n",
    "t_start=time.time()\n",
    "for k in range(num):\n",
    "    temp_key_2_new_key=[]\n",
    "    temp_key_2_new_key.append(tuple([k for k in key_2_new_key[0][:(k1+1)]]))\n",
    "    temp_key_2_new_key.append(tuple([k for k in key_2_new_key[1][:(k2+1)]]))\n",
    "\n",
    "print(time.time()-t_start)\n",
    "\n",
    "A=dict()\n",
    "\n",
    "t_start=time.time()\n",
    "for k in range(num):\n",
    "    temp_key_2_new_key=[]\n",
    "    temp_key_2_new_key.append(tuple([k for k in key_2_new_key[0][:(k1+1)]]))\n",
    "    temp_key_2_new_key.append(tuple([k for k in key_2_new_key[1][:(k2+1)]]))\n",
    "    the_key=(temp_key_2_new_key[0],temp_key_2_new_key[1])\n",
    "    A[the_key]=k\n",
    "print(time.time()-t_start)\n",
    "\n"
   ]
  },
  {
   "cell_type": "code",
   "execution_count": 4,
   "metadata": {},
   "outputs": [],
   "source": [
    "class N:\n",
    "        def __init__(self,key):\n",
    "            self.key = key\n",
    "            self.next = dict()\n",
    "            \n",
    "Header = N(0)\n",
    "t=Header\n",
    "for k in range(100):\n",
    "    temp=N(k+1)\n",
    "    t.next=temp\n",
    "    t=temp"
   ]
  },
  {
   "cell_type": "code",
   "execution_count": null,
   "metadata": {},
   "outputs": [],
   "source": [
    "t_start=time.time()\n",
    "for k in range(num):\n",
    "    h=Header.next\n",
    "    \n",
    "\n",
    "print(time.time()-t_start)\n",
    "\n",
    "A=dict()\n",
    "\n",
    "t_start=time.time()\n",
    "for k in range(num):\n",
    "    h=Header.next\n",
    "    b=h\n",
    "    the_key=h\n",
    "    A[h]=k\n",
    "print(time.time()-t_start)"
   ]
  },
  {
   "cell_type": "code",
   "execution_count": 26,
   "metadata": {},
   "outputs": [
    {
     "name": "stdout",
     "output_type": "stream",
     "text": [
      "0.5640571117401123\n"
     ]
    }
   ],
   "source": [
    "A=[0,1]\n",
    "global_node_idx=0\n",
    "t_start=time.time()\n",
    "for k in range(num):\n",
    "    Header.next\n",
    "#     id(Header)\n",
    "print(time.time()-t_start)"
   ]
  },
  {
   "cell_type": "code",
   "execution_count": null,
   "metadata": {},
   "outputs": [],
   "source": []
  },
  {
   "cell_type": "code",
   "execution_count": null,
   "metadata": {},
   "outputs": [],
   "source": []
  }
 ],
 "metadata": {
  "kernelspec": {
   "display_name": "Python 3",
   "language": "python",
   "name": "python3"
  },
  "language_info": {
   "codemirror_mode": {
    "name": "ipython",
    "version": 3
   },
   "file_extension": ".py",
   "mimetype": "text/x-python",
   "name": "python",
   "nbconvert_exporter": "python",
   "pygments_lexer": "ipython3",
   "version": "3.7.6"
  }
 },
 "nbformat": 4,
 "nbformat_minor": 4
}
